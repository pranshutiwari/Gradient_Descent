{
  "nbformat": 4,
  "nbformat_minor": 0,
  "metadata": {
    "colab": {
      "provenance": [],
      "toc_visible": true
    },
    "kernelspec": {
      "name": "python3",
      "display_name": "Python 3"
    },
    "language_info": {
      "name": "python"
    }
  },
  "cells": [
    {
      "cell_type": "code",
      "execution_count": 143,
      "metadata": {
        "id": "BjjMmfCML_AI"
      },
      "outputs": [],
      "source": [
        "import numpy as np\n",
        "import matplotlib.pyplot as plt\n"
      ]
    },
    {
      "cell_type": "markdown",
      "source": [
        "Predicted $\\vec{Y_{hat}} = \\vec{W}.X_{Train}$\n",
        "\n",
        "Error=$\\frac{(\\vec{Y_{hat}}-Y)^2}{2*N}$\n"
      ],
      "metadata": {
        "id": "N6kijJowNPZ_"
      }
    },
    {
      "cell_type": "markdown",
      "source": [],
      "metadata": {
        "id": "-V9nr_YNM_B1"
      }
    },
    {
      "cell_type": "code",
      "source": [
        "from google.colab import drive\n",
        "drive.mount('/content/drive')\n",
        "import pandas as pd\n",
        "\n",
        "path='/content/drive/My Drive/ColabNotebooks/Gradient_Descent/'\n",
        "\n",
        "\n",
        "df = open(path+'x_train3.txt', \"r\")\n",
        "lines = df.readlines()\n",
        "df.close()\n",
        "\n",
        "# remove /n at the end of each line\n",
        "for index, line in enumerate(lines):\n",
        "      lines[index] = line.strip()\n"
      ],
      "metadata": {
        "colab": {
          "base_uri": "https://localhost:8080/"
        },
        "id": "HbU-UlWOg3YF",
        "outputId": "8bbd5dc8-35f5-4582-e225-35b066432fcd"
      },
      "execution_count": 144,
      "outputs": [
        {
          "output_type": "stream",
          "name": "stdout",
          "text": [
            "Drive already mounted at /content/drive; to attempt to forcibly remount, call drive.mount(\"/content/drive\", force_remount=True).\n"
          ]
        }
      ]
    },
    {
      "cell_type": "code",
      "source": [
        "lines\n",
        "q=[]\n",
        "for item in lines:\n",
        "     p=item.lstrip()\n",
        "     p1=p.rstrip()\n",
        "     q.append(p1)\n",
        "q\n",
        "lines=q\n",
        "#remove space "
      ],
      "metadata": {
        "id": "mX9vfyyuMQ3e"
      },
      "execution_count": 145,
      "outputs": []
    },
    {
      "cell_type": "code",
      "source": [
        "import re\n",
        "df_result = pd.DataFrame(columns=('first_col', 'second_col'))\n",
        "df_result\n",
        "i = 0  \n",
        "first_col = \"\" \n",
        "second_col = \"\"  \n",
        "for line in lines:\n",
        "    #you can use \"if\" and \"replace\" in case you had some conditions to manipulate the txt data\n",
        "    if 'X' in line:\n",
        "        first_col = line.replace('X', \"\")\n",
        "    else:\n",
        "        #you have to kind of define what are the values in columns,for example second column includes:\n",
        "        second_col = re.sub(r' \\(.*',\"\", line)\n",
        "        #this is how you create next line data\n",
        "        df_result.loc[i] = [first_col, second_col]\n",
        "        i =i+1\n",
        "## Reference to code block from stack overflow\n",
        "#https://stackoverflow.com/questions/32120949/converting-text-files-to-pandas-dataframe#\n"
      ],
      "metadata": {
        "id": "KVv8YkjUuUHc"
      },
      "execution_count": 146,
      "outputs": []
    },
    {
      "cell_type": "code",
      "source": [
        "df=df_result['second_col'].str.split(\" \",expand = True)"
      ],
      "metadata": {
        "id": "ilPtHCH8O1h8"
      },
      "execution_count": 147,
      "outputs": []
    },
    {
      "cell_type": "code",
      "source": [
        "x_train=df.iloc[:,[0,3]]\n",
        "x_train[0]=pd.to_numeric(x_train[0])\n",
        "x_train[3]=pd.to_numeric(x_train[3])"
      ],
      "metadata": {
        "colab": {
          "base_uri": "https://localhost:8080/"
        },
        "id": "z8ioiAY5PmXR",
        "outputId": "cbf47aa0-9ed3-477e-de41-56496d392cfb"
      },
      "execution_count": 148,
      "outputs": [
        {
          "output_type": "stream",
          "name": "stderr",
          "text": [
            "<ipython-input-148-38e386c95b1b>:2: SettingWithCopyWarning: \n",
            "A value is trying to be set on a copy of a slice from a DataFrame.\n",
            "Try using .loc[row_indexer,col_indexer] = value instead\n",
            "\n",
            "See the caveats in the documentation: https://pandas.pydata.org/pandas-docs/stable/user_guide/indexing.html#returning-a-view-versus-a-copy\n",
            "  x_train[0]=pd.to_numeric(x_train[0])\n",
            "<ipython-input-148-38e386c95b1b>:3: SettingWithCopyWarning: \n",
            "A value is trying to be set on a copy of a slice from a DataFrame.\n",
            "Try using .loc[row_indexer,col_indexer] = value instead\n",
            "\n",
            "See the caveats in the documentation: https://pandas.pydata.org/pandas-docs/stable/user_guide/indexing.html#returning-a-view-versus-a-copy\n",
            "  x_train[3]=pd.to_numeric(x_train[3])\n"
          ]
        }
      ]
    },
    {
      "cell_type": "code",
      "source": [
        "x_train.columns"
      ],
      "metadata": {
        "colab": {
          "base_uri": "https://localhost:8080/"
        },
        "id": "iQHr0mCAONR-",
        "outputId": "4fce102e-3d0e-4a31-f3a2-ee0cb07c8a52"
      },
      "execution_count": 8,
      "outputs": [
        {
          "output_type": "execute_result",
          "data": {
            "text/plain": [
              "Int64Index([0, 3], dtype='int64')"
            ]
          },
          "metadata": {},
          "execution_count": 8
        }
      ]
    },
    {
      "cell_type": "code",
      "source": [
        "x_train.shape"
      ],
      "metadata": {
        "colab": {
          "base_uri": "https://localhost:8080/"
        },
        "id": "Vsey09ZkhU8D",
        "outputId": "264ce1d0-fc98-4b25-da22-2ac51da8c600"
      },
      "execution_count": 149,
      "outputs": [
        {
          "output_type": "execute_result",
          "data": {
            "text/plain": [
              "(47, 2)"
            ]
          },
          "metadata": {},
          "execution_count": 149
        }
      ]
    },
    {
      "cell_type": "code",
      "source": [
        "constant=np.repeat(1,repeats=x_train.shape[0])\n",
        "constant"
      ],
      "metadata": {
        "colab": {
          "base_uri": "https://localhost:8080/"
        },
        "id": "mJrMyjSK4_Ec",
        "outputId": "926a334e-c476-48ef-ca7c-e5ff0dc9ad35"
      },
      "execution_count": 150,
      "outputs": [
        {
          "output_type": "execute_result",
          "data": {
            "text/plain": [
              "array([1, 1, 1, 1, 1, 1, 1, 1, 1, 1, 1, 1, 1, 1, 1, 1, 1, 1, 1, 1, 1, 1,\n",
              "       1, 1, 1, 1, 1, 1, 1, 1, 1, 1, 1, 1, 1, 1, 1, 1, 1, 1, 1, 1, 1, 1,\n",
              "       1, 1, 1])"
            ]
          },
          "metadata": {},
          "execution_count": 150
        }
      ]
    },
    {
      "cell_type": "code",
      "source": [
        "x_train_new=np.c_[constant,x_train]\n",
        "x_train_new"
      ],
      "metadata": {
        "colab": {
          "base_uri": "https://localhost:8080/"
        },
        "id": "gUco8n2K5fIv",
        "outputId": "b7447199-4b48-454d-dc8b-523da179990d"
      },
      "execution_count": 151,
      "outputs": [
        {
          "output_type": "execute_result",
          "data": {
            "text/plain": [
              "array([[1.000e+00, 2.104e+03, 3.000e+00],\n",
              "       [1.000e+00, 1.600e+03, 3.000e+00],\n",
              "       [1.000e+00, 2.400e+03, 3.000e+00],\n",
              "       [1.000e+00, 1.416e+03, 2.000e+00],\n",
              "       [1.000e+00, 3.000e+03, 4.000e+00],\n",
              "       [1.000e+00, 1.985e+03, 4.000e+00],\n",
              "       [1.000e+00, 1.534e+03, 3.000e+00],\n",
              "       [1.000e+00, 1.427e+03, 3.000e+00],\n",
              "       [1.000e+00, 1.380e+03, 3.000e+00],\n",
              "       [1.000e+00, 1.494e+03, 3.000e+00],\n",
              "       [1.000e+00, 1.940e+03, 4.000e+00],\n",
              "       [1.000e+00, 2.000e+03, 3.000e+00],\n",
              "       [1.000e+00, 1.890e+03, 3.000e+00],\n",
              "       [1.000e+00, 4.478e+03, 5.000e+00],\n",
              "       [1.000e+00, 1.268e+03, 3.000e+00],\n",
              "       [1.000e+00, 2.300e+03, 4.000e+00],\n",
              "       [1.000e+00, 1.320e+03, 2.000e+00],\n",
              "       [1.000e+00, 1.236e+03, 3.000e+00],\n",
              "       [1.000e+00, 2.609e+03, 4.000e+00],\n",
              "       [1.000e+00, 3.031e+03, 4.000e+00],\n",
              "       [1.000e+00, 1.767e+03, 3.000e+00],\n",
              "       [1.000e+00, 1.888e+03, 2.000e+00],\n",
              "       [1.000e+00, 1.604e+03, 3.000e+00],\n",
              "       [1.000e+00, 1.962e+03, 4.000e+00],\n",
              "       [1.000e+00, 3.890e+03, 3.000e+00],\n",
              "       [1.000e+00, 1.100e+03, 3.000e+00],\n",
              "       [1.000e+00, 1.458e+03, 3.000e+00],\n",
              "       [1.000e+00, 2.526e+03, 3.000e+00],\n",
              "       [1.000e+00, 2.200e+03, 3.000e+00],\n",
              "       [1.000e+00, 2.637e+03, 3.000e+00],\n",
              "       [1.000e+00, 1.839e+03, 2.000e+00],\n",
              "       [1.000e+00, 1.000e+03, 1.000e+00],\n",
              "       [1.000e+00, 2.040e+03, 4.000e+00],\n",
              "       [1.000e+00, 3.137e+03, 3.000e+00],\n",
              "       [1.000e+00, 1.811e+03, 4.000e+00],\n",
              "       [1.000e+00, 1.437e+03, 3.000e+00],\n",
              "       [1.000e+00, 1.239e+03, 3.000e+00],\n",
              "       [1.000e+00, 2.132e+03, 4.000e+00],\n",
              "       [1.000e+00, 4.215e+03, 4.000e+00],\n",
              "       [1.000e+00, 2.162e+03, 4.000e+00],\n",
              "       [1.000e+00, 1.664e+03, 2.000e+00],\n",
              "       [1.000e+00, 2.238e+03, 3.000e+00],\n",
              "       [1.000e+00, 2.567e+03, 4.000e+00],\n",
              "       [1.000e+00, 1.200e+03, 3.000e+00],\n",
              "       [1.000e+00, 8.520e+02, 2.000e+00],\n",
              "       [1.000e+00, 1.852e+03, 4.000e+00],\n",
              "       [1.000e+00, 1.203e+03, 3.000e+00]])"
            ]
          },
          "metadata": {},
          "execution_count": 151
        }
      ]
    },
    {
      "cell_type": "code",
      "source": [
        "y_train=pd.read_csv(path +'y_train.csv')\n",
        "y_train"
      ],
      "metadata": {
        "colab": {
          "base_uri": "https://localhost:8080/",
          "height": 1000
        },
        "id": "DzsIwE2xHXVs",
        "outputId": "afed8924-7084-43eb-bb53-9e0d0c44122e"
      },
      "execution_count": 152,
      "outputs": [
        {
          "output_type": "execute_result",
          "data": {
            "text/plain": [
              "           y\n",
              "0   400000.0\n",
              "1   330000.0\n",
              "2   369000.0\n",
              "3   232000.0\n",
              "4   540000.0\n",
              "5   300000.0\n",
              "6   315000.0\n",
              "7   199000.0\n",
              "8   212000.0\n",
              "9   243000.0\n",
              "10  240000.0\n",
              "11  347000.0\n",
              "12  330000.0\n",
              "13  700000.0\n",
              "14  260000.0\n",
              "15  450000.0\n",
              "16  300000.0\n",
              "17  200000.0\n",
              "18  500000.0\n",
              "19  599000.0\n",
              "20  253000.0\n",
              "21  255000.0\n",
              "22  243000.0\n",
              "23  260000.0\n",
              "24  574000.0\n",
              "25  250000.0\n",
              "26  465000.0\n",
              "27  469000.0\n",
              "28  475000.0\n",
              "29  300000.0\n",
              "30  350000.0\n",
              "31  170000.0\n",
              "32  315000.0\n",
              "33  580000.0\n",
              "34  286000.0\n",
              "35  250000.0\n",
              "36  230000.0\n",
              "37  345000.0\n",
              "38  549000.0\n",
              "39  287000.0\n",
              "40  369000.0\n",
              "41  330000.0\n",
              "42  314000.0\n",
              "43  299000.0\n",
              "44  180000.0\n",
              "45  300000.0\n",
              "46  240000.0"
            ],
            "text/html": [
              "\n",
              "  <div id=\"df-4ba6b830-9366-4645-afe8-6dafae6d2264\">\n",
              "    <div class=\"colab-df-container\">\n",
              "      <div>\n",
              "<style scoped>\n",
              "    .dataframe tbody tr th:only-of-type {\n",
              "        vertical-align: middle;\n",
              "    }\n",
              "\n",
              "    .dataframe tbody tr th {\n",
              "        vertical-align: top;\n",
              "    }\n",
              "\n",
              "    .dataframe thead th {\n",
              "        text-align: right;\n",
              "    }\n",
              "</style>\n",
              "<table border=\"1\" class=\"dataframe\">\n",
              "  <thead>\n",
              "    <tr style=\"text-align: right;\">\n",
              "      <th></th>\n",
              "      <th>y</th>\n",
              "    </tr>\n",
              "  </thead>\n",
              "  <tbody>\n",
              "    <tr>\n",
              "      <th>0</th>\n",
              "      <td>400000.0</td>\n",
              "    </tr>\n",
              "    <tr>\n",
              "      <th>1</th>\n",
              "      <td>330000.0</td>\n",
              "    </tr>\n",
              "    <tr>\n",
              "      <th>2</th>\n",
              "      <td>369000.0</td>\n",
              "    </tr>\n",
              "    <tr>\n",
              "      <th>3</th>\n",
              "      <td>232000.0</td>\n",
              "    </tr>\n",
              "    <tr>\n",
              "      <th>4</th>\n",
              "      <td>540000.0</td>\n",
              "    </tr>\n",
              "    <tr>\n",
              "      <th>5</th>\n",
              "      <td>300000.0</td>\n",
              "    </tr>\n",
              "    <tr>\n",
              "      <th>6</th>\n",
              "      <td>315000.0</td>\n",
              "    </tr>\n",
              "    <tr>\n",
              "      <th>7</th>\n",
              "      <td>199000.0</td>\n",
              "    </tr>\n",
              "    <tr>\n",
              "      <th>8</th>\n",
              "      <td>212000.0</td>\n",
              "    </tr>\n",
              "    <tr>\n",
              "      <th>9</th>\n",
              "      <td>243000.0</td>\n",
              "    </tr>\n",
              "    <tr>\n",
              "      <th>10</th>\n",
              "      <td>240000.0</td>\n",
              "    </tr>\n",
              "    <tr>\n",
              "      <th>11</th>\n",
              "      <td>347000.0</td>\n",
              "    </tr>\n",
              "    <tr>\n",
              "      <th>12</th>\n",
              "      <td>330000.0</td>\n",
              "    </tr>\n",
              "    <tr>\n",
              "      <th>13</th>\n",
              "      <td>700000.0</td>\n",
              "    </tr>\n",
              "    <tr>\n",
              "      <th>14</th>\n",
              "      <td>260000.0</td>\n",
              "    </tr>\n",
              "    <tr>\n",
              "      <th>15</th>\n",
              "      <td>450000.0</td>\n",
              "    </tr>\n",
              "    <tr>\n",
              "      <th>16</th>\n",
              "      <td>300000.0</td>\n",
              "    </tr>\n",
              "    <tr>\n",
              "      <th>17</th>\n",
              "      <td>200000.0</td>\n",
              "    </tr>\n",
              "    <tr>\n",
              "      <th>18</th>\n",
              "      <td>500000.0</td>\n",
              "    </tr>\n",
              "    <tr>\n",
              "      <th>19</th>\n",
              "      <td>599000.0</td>\n",
              "    </tr>\n",
              "    <tr>\n",
              "      <th>20</th>\n",
              "      <td>253000.0</td>\n",
              "    </tr>\n",
              "    <tr>\n",
              "      <th>21</th>\n",
              "      <td>255000.0</td>\n",
              "    </tr>\n",
              "    <tr>\n",
              "      <th>22</th>\n",
              "      <td>243000.0</td>\n",
              "    </tr>\n",
              "    <tr>\n",
              "      <th>23</th>\n",
              "      <td>260000.0</td>\n",
              "    </tr>\n",
              "    <tr>\n",
              "      <th>24</th>\n",
              "      <td>574000.0</td>\n",
              "    </tr>\n",
              "    <tr>\n",
              "      <th>25</th>\n",
              "      <td>250000.0</td>\n",
              "    </tr>\n",
              "    <tr>\n",
              "      <th>26</th>\n",
              "      <td>465000.0</td>\n",
              "    </tr>\n",
              "    <tr>\n",
              "      <th>27</th>\n",
              "      <td>469000.0</td>\n",
              "    </tr>\n",
              "    <tr>\n",
              "      <th>28</th>\n",
              "      <td>475000.0</td>\n",
              "    </tr>\n",
              "    <tr>\n",
              "      <th>29</th>\n",
              "      <td>300000.0</td>\n",
              "    </tr>\n",
              "    <tr>\n",
              "      <th>30</th>\n",
              "      <td>350000.0</td>\n",
              "    </tr>\n",
              "    <tr>\n",
              "      <th>31</th>\n",
              "      <td>170000.0</td>\n",
              "    </tr>\n",
              "    <tr>\n",
              "      <th>32</th>\n",
              "      <td>315000.0</td>\n",
              "    </tr>\n",
              "    <tr>\n",
              "      <th>33</th>\n",
              "      <td>580000.0</td>\n",
              "    </tr>\n",
              "    <tr>\n",
              "      <th>34</th>\n",
              "      <td>286000.0</td>\n",
              "    </tr>\n",
              "    <tr>\n",
              "      <th>35</th>\n",
              "      <td>250000.0</td>\n",
              "    </tr>\n",
              "    <tr>\n",
              "      <th>36</th>\n",
              "      <td>230000.0</td>\n",
              "    </tr>\n",
              "    <tr>\n",
              "      <th>37</th>\n",
              "      <td>345000.0</td>\n",
              "    </tr>\n",
              "    <tr>\n",
              "      <th>38</th>\n",
              "      <td>549000.0</td>\n",
              "    </tr>\n",
              "    <tr>\n",
              "      <th>39</th>\n",
              "      <td>287000.0</td>\n",
              "    </tr>\n",
              "    <tr>\n",
              "      <th>40</th>\n",
              "      <td>369000.0</td>\n",
              "    </tr>\n",
              "    <tr>\n",
              "      <th>41</th>\n",
              "      <td>330000.0</td>\n",
              "    </tr>\n",
              "    <tr>\n",
              "      <th>42</th>\n",
              "      <td>314000.0</td>\n",
              "    </tr>\n",
              "    <tr>\n",
              "      <th>43</th>\n",
              "      <td>299000.0</td>\n",
              "    </tr>\n",
              "    <tr>\n",
              "      <th>44</th>\n",
              "      <td>180000.0</td>\n",
              "    </tr>\n",
              "    <tr>\n",
              "      <th>45</th>\n",
              "      <td>300000.0</td>\n",
              "    </tr>\n",
              "    <tr>\n",
              "      <th>46</th>\n",
              "      <td>240000.0</td>\n",
              "    </tr>\n",
              "  </tbody>\n",
              "</table>\n",
              "</div>\n",
              "      <button class=\"colab-df-convert\" onclick=\"convertToInteractive('df-4ba6b830-9366-4645-afe8-6dafae6d2264')\"\n",
              "              title=\"Convert this dataframe to an interactive table.\"\n",
              "              style=\"display:none;\">\n",
              "        \n",
              "  <svg xmlns=\"http://www.w3.org/2000/svg\" height=\"24px\"viewBox=\"0 0 24 24\"\n",
              "       width=\"24px\">\n",
              "    <path d=\"M0 0h24v24H0V0z\" fill=\"none\"/>\n",
              "    <path d=\"M18.56 5.44l.94 2.06.94-2.06 2.06-.94-2.06-.94-.94-2.06-.94 2.06-2.06.94zm-11 1L8.5 8.5l.94-2.06 2.06-.94-2.06-.94L8.5 2.5l-.94 2.06-2.06.94zm10 10l.94 2.06.94-2.06 2.06-.94-2.06-.94-.94-2.06-.94 2.06-2.06.94z\"/><path d=\"M17.41 7.96l-1.37-1.37c-.4-.4-.92-.59-1.43-.59-.52 0-1.04.2-1.43.59L10.3 9.45l-7.72 7.72c-.78.78-.78 2.05 0 2.83L4 21.41c.39.39.9.59 1.41.59.51 0 1.02-.2 1.41-.59l7.78-7.78 2.81-2.81c.8-.78.8-2.07 0-2.86zM5.41 20L4 18.59l7.72-7.72 1.47 1.35L5.41 20z\"/>\n",
              "  </svg>\n",
              "      </button>\n",
              "      \n",
              "  <style>\n",
              "    .colab-df-container {\n",
              "      display:flex;\n",
              "      flex-wrap:wrap;\n",
              "      gap: 12px;\n",
              "    }\n",
              "\n",
              "    .colab-df-convert {\n",
              "      background-color: #E8F0FE;\n",
              "      border: none;\n",
              "      border-radius: 50%;\n",
              "      cursor: pointer;\n",
              "      display: none;\n",
              "      fill: #1967D2;\n",
              "      height: 32px;\n",
              "      padding: 0 0 0 0;\n",
              "      width: 32px;\n",
              "    }\n",
              "\n",
              "    .colab-df-convert:hover {\n",
              "      background-color: #E2EBFA;\n",
              "      box-shadow: 0px 1px 2px rgba(60, 64, 67, 0.3), 0px 1px 3px 1px rgba(60, 64, 67, 0.15);\n",
              "      fill: #174EA6;\n",
              "    }\n",
              "\n",
              "    [theme=dark] .colab-df-convert {\n",
              "      background-color: #3B4455;\n",
              "      fill: #D2E3FC;\n",
              "    }\n",
              "\n",
              "    [theme=dark] .colab-df-convert:hover {\n",
              "      background-color: #434B5C;\n",
              "      box-shadow: 0px 1px 3px 1px rgba(0, 0, 0, 0.15);\n",
              "      filter: drop-shadow(0px 1px 2px rgba(0, 0, 0, 0.3));\n",
              "      fill: #FFFFFF;\n",
              "    }\n",
              "  </style>\n",
              "\n",
              "      <script>\n",
              "        const buttonEl =\n",
              "          document.querySelector('#df-4ba6b830-9366-4645-afe8-6dafae6d2264 button.colab-df-convert');\n",
              "        buttonEl.style.display =\n",
              "          google.colab.kernel.accessAllowed ? 'block' : 'none';\n",
              "\n",
              "        async function convertToInteractive(key) {\n",
              "          const element = document.querySelector('#df-4ba6b830-9366-4645-afe8-6dafae6d2264');\n",
              "          const dataTable =\n",
              "            await google.colab.kernel.invokeFunction('convertToInteractive',\n",
              "                                                     [key], {});\n",
              "          if (!dataTable) return;\n",
              "\n",
              "          const docLinkHtml = 'Like what you see? Visit the ' +\n",
              "            '<a target=\"_blank\" href=https://colab.research.google.com/notebooks/data_table.ipynb>data table notebook</a>'\n",
              "            + ' to learn more about interactive tables.';\n",
              "          element.innerHTML = '';\n",
              "          dataTable['output_type'] = 'display_data';\n",
              "          await google.colab.output.renderOutput(dataTable, element);\n",
              "          const docLink = document.createElement('div');\n",
              "          docLink.innerHTML = docLinkHtml;\n",
              "          element.appendChild(docLink);\n",
              "        }\n",
              "      </script>\n",
              "    </div>\n",
              "  </div>\n",
              "  "
            ]
          },
          "metadata": {},
          "execution_count": 152
        }
      ]
    },
    {
      "cell_type": "code",
      "source": [
        "# equation is as per Linear Regression Analytic Process :\n"
      ],
      "metadata": {
        "id": "RhCrhABjuzZ1"
      },
      "execution_count": 13,
      "outputs": []
    },
    {
      "cell_type": "markdown",
      "source": [
        "$\\beta$=$(X^T.X)^{-1}(X^T.Y)$\n",
        "\n",
        "Steps:\n",
        "1. Calculate Prod1=$(X^T.X)$\n",
        "\n",
        "2. Calculate Prod2=Inverse of Prod1\n",
        "\n",
        "3. Calculate $(X^T.Y)$ as Prod3 \n",
        "\n",
        "4. Multiply Prod2. Prod3"
      ],
      "metadata": {
        "id": "F4HCfm_djero"
      }
    },
    {
      "cell_type": "code",
      "source": [
        "\n",
        "X=x_train_new\n",
        "X_t=X.T\n",
        "prod1=np.dot(X_t,X)\n",
        "prod2=np.linalg.inv(prod1)\n",
        "y=y_train.values\n",
        "prod2\n",
        "prod2.shape\n",
        "#np.dot(prod2,np.dot(X_t,y2))"
      ],
      "metadata": {
        "colab": {
          "base_uri": "https://localhost:8080/"
        },
        "id": "CVxv-MX3I32y",
        "outputId": "149ac0e6-7365-43b1-ee68-0a77575f0f94"
      },
      "execution_count": 153,
      "outputs": [
        {
          "output_type": "execute_result",
          "data": {
            "text/plain": [
              "(3, 3)"
            ]
          },
          "metadata": {},
          "execution_count": 153
        }
      ]
    },
    {
      "cell_type": "markdown",
      "source": [
        "Looking at product of X_T,Y"
      ],
      "metadata": {
        "id": "q4WapWmMJvZN"
      }
    },
    {
      "cell_type": "code",
      "source": [
        "y2=y.reshape(-1,1)\n",
        "y2\n",
        "y2.shape"
      ],
      "metadata": {
        "colab": {
          "base_uri": "https://localhost:8080/"
        },
        "id": "1SJDA5o8rhmI",
        "outputId": "832a1228-25bd-4744-e5e1-e9063a2b8568"
      },
      "execution_count": 154,
      "outputs": [
        {
          "output_type": "execute_result",
          "data": {
            "text/plain": [
              "(47, 1)"
            ]
          },
          "metadata": {},
          "execution_count": 154
        }
      ]
    },
    {
      "cell_type": "code",
      "source": [
        "prod_3=np.matmul(X_t,y2)"
      ],
      "metadata": {
        "id": "0WUlEsG9LOwH"
      },
      "execution_count": 155,
      "outputs": []
    },
    {
      "cell_type": "markdown",
      "source": [
        "Answer using Linear Regression "
      ],
      "metadata": {
        "id": "Db4pLk2js1aT"
      }
    },
    {
      "cell_type": "code",
      "source": [
        "beta_vector=np.dot(prod2,prod_3)\n",
        "beta_vector"
      ],
      "metadata": {
        "colab": {
          "base_uri": "https://localhost:8080/"
        },
        "id": "7aWWxiItIiIq",
        "outputId": "89b8fb57-6dc4-496f-c716-296dde106a50"
      },
      "execution_count": 156,
      "outputs": [
        {
          "output_type": "execute_result",
          "data": {
            "text/plain": [
              "array([[89805.53774389],\n",
              "       [  139.17782523],\n",
              "       [-8751.87608341]])"
            ]
          },
          "metadata": {},
          "execution_count": 156
        }
      ]
    },
    {
      "cell_type": "code",
      "source": [],
      "metadata": {
        "id": "VDK1rBvkY7b4"
      },
      "execution_count": 17,
      "outputs": []
    },
    {
      "cell_type": "markdown",
      "source": [
        "#Loss\n",
        "Error=$\\frac{(\\vec{Y_{hat}}-Y)^2}{2*N}$\n",
        "\n",
        "Eroor =J(W)=$\\frac{(X.Θ-X).(X.Θ-X)^T}{2*N}$"
      ],
      "metadata": {
        "id": "PgUYJ5PGvxTB"
      }
    },
    {
      "cell_type": "code",
      "source": [
        "def cost(X, Y, w):\n",
        "    J=np.dot((np.dot(X,w) - Y).T,(np.dot(X,w) - Y))/(2*len(Y))\n",
        "    return J"
      ],
      "metadata": {
        "id": "o-T1-CAMJJtF"
      },
      "execution_count": 157,
      "outputs": []
    },
    {
      "cell_type": "code",
      "source": [
        "import numpy as np\n",
        "from sklearn.linear_model import LinearRegression\n",
        "model=LinearRegression()\n",
        "fit2=model.fit(x_train,y2)#use x_train as the intercept is automatically treated in linear regression model\n",
        "print(f\"slope:{fit2.coef_}\")\n",
        "print(f\"intercept:{fit2.intercept_}\")\n",
        "\n"
      ],
      "metadata": {
        "id": "gz7VU2e-wx0D",
        "colab": {
          "base_uri": "https://localhost:8080/"
        },
        "outputId": "eecfa04c-7697-425d-fa36-34acf9e10e03"
      },
      "execution_count": 158,
      "outputs": [
        {
          "output_type": "stream",
          "name": "stdout",
          "text": [
            "slope:[[  139.17782523 -8751.87608341]]\n",
            "intercept:[89805.53774389]\n"
          ]
        }
      ]
    },
    {
      "cell_type": "code",
      "source": [
        "# Answer is same as Linear Regression as compared to Analytical Solution"
      ],
      "metadata": {
        "id": "3QOyMSIytf1X"
      },
      "execution_count": 169,
      "outputs": []
    },
    {
      "cell_type": "markdown",
      "source": [
        "# ANSWER CASE A WHEN WE HAVE TRAINING DATA THAT INCLUDES NUMBER OF ROOMS AND AREA TO PREDICT PRICE#\n",
        "\n",
        "# Here we do 2 ways- normalizing entire X and Y Data\n",
        "# Option 2 Normalize X only using standard Scaler and keeping Y Original"
      ],
      "metadata": {
        "id": "4pGBDzJiuBMj"
      }
    },
    {
      "cell_type": "markdown",
      "source": [
        "**GRADIENT DESCENT PROCESS **"
      ],
      "metadata": {
        "id": "BwGfdYKOg6SS"
      }
    },
    {
      "cell_type": "markdown",
      "source": [],
      "metadata": {
        "id": "GAnQeD5st9uR"
      }
    },
    {
      "cell_type": "markdown",
      "source": [
        "$∇J(\\vec{w})=(X^T.X.\\vec{w}-X^T.\\vec{Y})$\n",
        "\n",
        "$X -Train Data including constant Term 1  $\n",
        "\n",
        "$Y -Y train Data $\n",
        "\n",
        "$w -initial weight$\n",
        "\n",
        "# We need to move the weight in direction such that loss function is 0\n",
        "\n",
        "$\\vec{w_{n+1}}=\\vec{w_{n}}-η*∇J(\\vec{w_{n}})$ \n",
        "\n",
        "which is updating weight in direction where loss function tends towards threshold"
      ],
      "metadata": {
        "id": "_i8VBP0aRfKy"
      }
    },
    {
      "cell_type": "markdown",
      "source": [
        " Normalizing X and Y both "
      ],
      "metadata": {
        "id": "-nMSboaSuXvT"
      }
    },
    {
      "cell_type": "code",
      "source": [
        "from matplotlib.collections import EllipseCollection\n",
        "def cost(X, Y, w):\n",
        "    J=np.dot((Y-(np.dot(X,w))).T,(Y-np.dot(X,w)))/(2*len(Y))\n",
        "    return J\n",
        "from sklearn.preprocessing import StandardScaler\n",
        "ss = StandardScaler()\n",
        "alpha = 0.0001 # Specify the learning rate\n",
        "X = x_train_new\n",
        "X_s=ss.fit_transform(X)\n",
        "print(X_s.shape)\n",
        "Y = y2\n",
        "print(Y.shape)\n",
        "Y_s=ss.fit_transform(Y)\n",
        "num_iters = 1000\n",
        "cost_history=[]\n",
        "w_history=[]\n",
        "w=np.array([0,0,0]).T\n",
        "w=w.reshape(-1,1)\n",
        "print(w.shape)\n",
        "print(w.shape)\n",
        "print(X.shape)\n",
        "print(Y.shape)\n",
        "tolerance=0.01\n",
        "eta=0.001\n",
        "cost_up=cost(X_s,Y_s,w)\n",
        "for i in range(num_iters):# for loop is easier that until and hence using for loop \n",
        "  grad=np.dot(np.dot(X_s.T,X_s),w)-np.dot(X_s.T,Y_s)# computing gradient for each iteration \n",
        "  w=np.subtract(w,(eta*grad))# readjusting the weight in direction of negative gradient \n",
        "  cost_up=cost(X_s,Y_s,w)[0][0]#New error after new weights\n",
        "  cost_history.append(cost_up)# create history of error \n",
        "  w_history.append(w)# create history of theta \n",
        "  if np.linalg.norm(grad)< tolerance:# we need to break if absolute gradient is tending towards zero\n",
        "    r=i\n",
        "    break\n",
        "  else:\n",
        "    continue\n",
        "\n"
      ],
      "metadata": {
        "colab": {
          "base_uri": "https://localhost:8080/"
        },
        "id": "SG6aeKkUg5k-",
        "outputId": "f2c6c598-f154-4205-b33b-7ac4986ace5f"
      },
      "execution_count": 163,
      "outputs": [
        {
          "output_type": "stream",
          "name": "stdout",
          "text": [
            "(47, 3)\n",
            "(47, 1)\n",
            "(3, 1)\n",
            "(3, 1)\n",
            "(47, 3)\n",
            "(47, 1)\n"
          ]
        }
      ]
    },
    {
      "cell_type": "code",
      "source": [
        "cost_history"
      ],
      "metadata": {
        "id": "s3W1IehAUJ_4",
        "colab": {
          "base_uri": "https://localhost:8080/"
        },
        "outputId": "9957ed04-b7ae-430d-8e6e-66228b0d3bba"
      },
      "execution_count": 164,
      "outputs": [
        {
          "output_type": "execute_result",
          "data": {
            "text/plain": [
              "[0.4579640631695164,\n",
              " 0.42146877952476036,\n",
              " 0.38974773673894475,\n",
              " 0.3621421209803837,\n",
              " 0.33808554466672963,\n",
              " 0.3170910163547978,\n",
              " 0.2987397502107546,\n",
              " 0.2826715552429298,\n",
              " 0.2685765811799104,\n",
              " 0.2561882293927111,\n",
              " 0.24527706432400007,\n",
              " 0.2356455841284978,\n",
              " 0.22712372918679244,\n",
              " 0.21956502429368693,\n",
              " 0.2128432650400763,\n",
              " 0.20684967154621553,\n",
              " 0.2014904435577771,\n",
              " 0.19668466023650352,\n",
              " 0.1923624759811063,\n",
              " 0.1884635704873145,\n",
              " 0.18493581715836066,\n",
              " 0.1817341390458373,\n",
              " 0.17881952585353628,\n",
              " 0.17615818927475008,\n",
              " 0.17372083714339334,\n",
              " 0.17148204963579222,\n",
              " 0.16941974312713162,\n",
              " 0.16751470933933651,\n",
              " 0.1657502191628325,\n",
              " 0.1641116820337361,\n",
              " 0.16258635303539187,\n",
              " 0.16116308099872004,\n",
              " 0.15983209182523586,\n",
              " 0.15858480207191847,\n",
              " 0.1574136585372726,\n",
              " 0.15631200018921332,\n",
              " 0.155273939291775,\n",
              " 0.15429425903109562,\n",
              " 0.15336832532195774,\n",
              " 0.15249201080322228,\n",
              " 0.15166162931136573,\n",
              " 0.15087387936254656,\n",
              " 0.15012579538079043,\n",
              " 0.14941470558779557,\n",
              " 0.14873819562266077,\n",
              " 0.14809407709106917,\n",
              " 0.14748036035616804,\n",
              " 0.14689523098019056,\n",
              " 0.14633702930900336,\n",
              " 0.14580423276317941,\n",
              " 0.14529544046052836,\n",
              " 0.14480935984770626,\n",
              " 0.14434479506377607,\n",
              " 0.1439006367974689,\n",
              " 0.1434758534332869,\n",
              " 0.14306948331027544,\n",
              " 0.14268062794194003,\n",
              " 0.14230844606695306,\n",
              " 0.1419521484184911,\n",
              " 0.14161099311567169,\n",
              " 0.14128428159399348,\n",
              " 0.1409713550032224,\n",
              " 0.1406715910110913,\n",
              " 0.14038440095970348,\n",
              " 0.14010922732886213,\n",
              " 0.13984554146684752,\n",
              " 0.13959284155458304,\n",
              " 0.13935065077378908,\n",
              " 0.13911851565373093,\n",
              " 0.13889600457461496,\n",
              " 0.1386827064086516,\n",
              " 0.1384782292823572,\n",
              " 0.13828219944586428,\n",
              " 0.13809426023689908,\n",
              " 0.1379140711287188,\n",
              " 0.13774130685270006,\n",
              " 0.13757565658748447,\n",
              " 0.13741682320762746,\n",
              " 0.13726452258559865,\n",
              " 0.13711848294175732,\n",
              " 0.13697844423759892,\n",
              " 0.13684415760814725,\n",
              " 0.13671538482986872,\n",
              " 0.13659189782091938,\n",
              " 0.13647347817090988,\n",
              " 0.1363599166977005,\n",
              " 0.13625101302902123,\n",
              " 0.13614657520695533,\n",
              " 0.13604641931354167,\n",
              " 0.13595036911593375,\n",
              " 0.13585825572971844,\n",
              " 0.1357699172991364,\n",
              " 0.13568519869307324,\n",
              " 0.13560395121579558,\n",
              " 0.13552603233150431,\n",
              " 0.135451305401861,\n",
              " 0.1353796394357145,\n",
              " 0.13531090885032496,\n",
              " 0.13524499324343647,\n",
              " 0.13518177717560254,\n",
              " 0.13512114996221472,\n",
              " 0.13506300547472508,\n",
              " 0.13500724195058983,\n",
              " 0.1349537618114953,\n",
              " 0.1349024714894551,\n",
              " 0.13485328126039664,\n",
              " 0.13480610508487734,\n",
              " 0.13476086045559418,\n",
              " 0.1347174682513697,\n",
              " 0.1346758525973167,\n",
              " 0.13463594073089938,\n",
              " 0.13459766287362618,\n",
              " 0.1345609521081224,\n",
              " 0.13452574426034367,\n",
              " 0.13449197778670585,\n",
              " 0.13445959366591567,\n",
              " 0.13442853529529827,\n",
              " 0.1343987483914287,\n",
              " 0.13437018089488195,\n",
              " 0.13434278287892573,\n",
              " 0.134316506461989,\n",
              " 0.13429130572374598,\n",
              " 0.1342671366246625,\n",
              " 0.13424395692886046,\n",
              " 0.13422172613016004,\n",
              " 0.1342004053811663,\n",
              " 0.13417995742527505,\n",
              " 0.1341603465314738,\n",
              " 0.13414153843182383,\n",
              " 0.13412350026151035,\n",
              " 0.13410620050135516,\n",
              " 0.1340896089226895,\n",
              " 0.13407369653449033,\n",
              " 0.13405843553268434,\n",
              " 0.13404379925153326,\n",
              " 0.13402976211701215,\n",
              " 0.13401629960209963,\n",
              " 0.1340033881839013,\n",
              " 0.13399100530253064,\n",
              " 0.13397912932167536,\n",
              " 0.13396773949077928,\n",
              " 0.1339568159087748,\n",
              " 0.1339463394893004,\n",
              " 0.13393629192734338,\n",
              " 0.13392665566724943,\n",
              " 0.133917413872042,\n",
              " 0.13390855039399896,\n",
              " 0.13390004974643352,\n",
              " 0.13389189707663163,\n",
              " 0.13388407813989717,\n",
              " 0.1338765792746602,\n",
              " 0.13386938737860446,\n",
              " 0.13386248988577226,\n",
              " 0.1338558747446071,\n",
              " 0.13384953039689498,\n",
              " 0.1338434457575684,\n",
              " 0.13383761019533671,\n",
              " 0.1338320135141099,\n",
              " 0.13382664593518295,\n",
              " 0.13382149808014926,\n",
              " 0.13381656095451364,\n",
              " 0.13381182593197663,\n",
              " 0.13380728473936176,\n",
              " 0.1338029294421598,\n",
              " 0.13379875243066539,\n",
              " 0.1337947464066805,\n",
              " 0.1337909043707629,\n",
              " 0.13378721960999576,\n",
              " 0.1337836856862593,\n",
              " 0.1337802964249808,\n",
              " 0.1337770459043469,\n",
              " 0.13377392844495614,\n",
              " 0.13377093859989614,\n",
              " 0.13376807114522601,\n",
              " 0.13376532107084924,\n",
              " 0.1337626835717597,\n",
              " 0.1337601540396462,\n",
              " 0.13375772805484068,\n",
              " 0.13375540137859585,\n",
              " 0.13375316994567935,\n",
              " 0.1337510298572706,\n",
              " 0.13374897737414887,\n",
              " 0.13374700891015984,\n",
              " 0.1337451210259497,\n",
              " 0.13374331042295606,\n",
              " 0.1337415739376442,\n",
              " 0.13373990853598008,\n",
              " 0.133738311308129,\n",
              " 0.13373677946337126,\n",
              " 0.13373531032522637,\n",
              " 0.13373390132677657,\n",
              " 0.13373255000618192,\n",
              " 0.13373125400237865,\n",
              " 0.13373001105095395,\n",
              " 0.13372881898018976,\n",
              " 0.13372767570726807,\n",
              " 0.1337265792346316,\n",
              " 0.133725527646494,\n",
              " 0.1337245191054922,\n",
              " 0.13372355184947635,\n",
              " 0.13372262418843067,\n",
              " 0.13372173450152092,\n",
              " 0.13372088123426235,\n",
              " 0.13372006289580352,\n",
              " 0.13371927805632142,\n",
              " 0.1337185253445236,\n",
              " 0.13371780344525178,\n",
              " 0.1337171110971842,\n",
              " 0.13371644709063168,\n",
              " 0.1337158102654244,\n",
              " 0.133715199508884,\n",
              " 0.13371461375388058,\n",
              " 0.13371405197696712,\n",
              " 0.133713513196592,\n",
              " 0.1337129964713837,\n",
              " 0.1337125008985062,\n",
              " 0.1337120256120811,\n",
              " 0.13371156978167537,\n",
              " 0.13371113261084985,\n",
              " 0.13371071333576806,\n",
              " 0.13371031122386123,\n",
              " 0.13370992557254882,\n",
              " 0.1337095557080103,\n",
              " 0.13370920098400865,\n",
              " 0.13370886078076055,\n",
              " 0.1337085345038537,\n",
              " 0.13370822158320836,\n",
              " 0.1337079214720813,\n",
              " 0.13370763364611024,\n",
              " 0.133707357602398,\n",
              " 0.1337070928586335,\n",
              " 0.1337068389522495,\n",
              " 0.13370659543961383,\n",
              " 0.13370636189525476,\n",
              " 0.13370613791111732,\n",
              " 0.13370592309585044,\n",
              " 0.1337057170741231,\n",
              " 0.13370551948596868,\n",
              " 0.13370532998615572,\n",
              " 0.13370514824358534,\n",
              " 0.13370497394071182,\n",
              " 0.13370480677298865,\n",
              " 0.13370464644833577,\n",
              " 0.13370449268662976,\n",
              " 0.133704345219214,\n",
              " 0.13370420378842954,\n",
              " 0.13370406814716468,\n",
              " 0.13370393805842337,\n",
              " 0.13370381329491102,\n",
              " 0.13370369363863763,\n",
              " 0.1337035788805364,\n",
              " 0.13370346882009904,\n",
              " 0.1337033632650248,\n",
              " 0.13370326203088528,\n",
              " 0.13370316494080137,\n",
              " 0.13370307182513463,\n",
              " 0.13370298252119095,\n",
              " 0.13370289687293604,\n",
              " 0.13370281473072299,\n",
              " 0.13370273595103072,\n",
              " 0.13370266039621326,\n",
              " 0.13370258793425918,\n",
              " 0.13370251843856104,\n",
              " 0.13370245178769405,\n",
              " 0.13370238786520405,\n",
              " 0.13370232655940414,\n",
              " 0.1337022677631789,\n",
              " 0.13370221137379815,\n",
              " 0.1337021572927367,\n",
              " 0.13370210542550287,\n",
              " 0.13370205568147278,\n",
              " 0.13370200797373227,\n",
              " 0.13370196221892514,\n",
              " 0.13370191833710737,\n",
              " 0.13370187625160743,\n",
              " 0.13370183588889248,\n",
              " 0.1337017971784396,\n",
              " 0.13370176005261297,\n",
              " 0.13370172444654527,\n",
              " 0.13370169029802464,\n",
              " 0.1337016575473859,\n",
              " 0.13370162613740624,\n",
              " 0.13370159601320528,\n",
              " 0.1337015671221492,\n",
              " 0.13370153941375892,\n",
              " 0.1337015128396214,\n",
              " 0.13370148735330564,\n",
              " 0.13370146291028134,\n",
              " 0.133701439467841,\n",
              " 0.13370141698502527,\n",
              " 0.13370139542255158,\n",
              " 0.13370137474274554,\n",
              " 0.13370135490947463,\n",
              " 0.13370133588808583,\n",
              " 0.13370131764534432,\n",
              " 0.133701300149376,\n",
              " 0.1337012833696113,\n",
              " 0.13370126727673223,\n",
              " 0.13370125184262094,\n",
              " 0.13370123704031053,\n",
              " 0.13370122284393796,\n",
              " 0.13370120922869894,\n",
              " 0.1337011961708047,\n",
              " 0.13370118364743988,\n",
              " 0.1337011716367235,\n",
              " 0.13370116011767008,\n",
              " 0.13370114907015324,\n",
              " 0.13370113847487045,\n",
              " 0.13370112831330927,\n",
              " 0.13370111856771533,\n",
              " 0.13370110922106065,\n",
              " 0.13370110025701468,\n",
              " 0.13370109165991512,\n",
              " 0.13370108341474085,\n",
              " 0.13370107550708576,\n",
              " 0.13370106792313338,\n",
              " 0.13370106064963277,\n",
              " 0.1337010536738755,\n",
              " 0.13370104698367333,\n",
              " 0.133701040567337,\n",
              " 0.13370103441365566,\n",
              " 0.1337010285118775,\n",
              " 0.1337010228516907,\n",
              " 0.13370101742320564,\n",
              " 0.13370101221693761,\n",
              " 0.13370100722379,\n",
              " 0.13370100243503863,\n",
              " 0.13370099784231654,\n",
              " 0.1337009934375992,\n",
              " 0.13370098921319043,\n",
              " 0.13370098516170947,\n",
              " 0.13370098127607724,\n",
              " 0.1337009775495048,\n",
              " 0.1337009739754809,\n",
              " 0.13370097054776092,\n",
              " 0.1337009672603559,\n",
              " 0.133700964107522,\n",
              " 0.13370096108375049,\n",
              " 0.13370095818375807,\n",
              " 0.13370095540247798,\n",
              " 0.1337009527350505,\n",
              " 0.13370095017681513,\n",
              " 0.13370094772330204,\n",
              " 0.13370094537022437,\n",
              " 0.13370094311347083,\n",
              " 0.13370094094909826,\n",
              " 0.13370093887332504]"
            ]
          },
          "metadata": {},
          "execution_count": 164
        }
      ]
    },
    {
      "cell_type": "code",
      "source": [
        "r"
      ],
      "metadata": {
        "colab": {
          "base_uri": "https://localhost:8080/"
        },
        "id": "PjwaulDJS_53",
        "outputId": "831981a6-65c7-4b1a-9410-bfc819a7206d"
      },
      "execution_count": 165,
      "outputs": [
        {
          "output_type": "execute_result",
          "data": {
            "text/plain": [
              "346"
            ]
          },
          "metadata": {},
          "execution_count": 165
        }
      ]
    },
    {
      "cell_type": "code",
      "source": [
        "# final weights for normalized Gradient Descent Process\n",
        "w"
      ],
      "metadata": {
        "colab": {
          "base_uri": "https://localhost:8080/"
        },
        "id": "6Vu1-zFOYsZG",
        "outputId": "09a285a6-0746-4f28-8e41-4d6ac761f403"
      },
      "execution_count": 25,
      "outputs": [
        {
          "output_type": "execute_result",
          "data": {
            "text/plain": [
              "array([[ 0.        ],\n",
              "       [ 0.88427592],\n",
              "       [-0.05293379]])"
            ]
          },
          "metadata": {},
          "execution_count": 25
        }
      ]
    },
    {
      "cell_type": "code",
      "source": [],
      "metadata": {
        "id": "DdYZqgjWt4e6"
      },
      "execution_count": null,
      "outputs": []
    },
    {
      "cell_type": "code",
      "source": [
        "plt.plot(cost_history,range(r+1))\n",
        "plt.title(\"Error Loss  Vs Iterations\")"
      ],
      "metadata": {
        "id": "8bxuMbwng5mE",
        "colab": {
          "base_uri": "https://localhost:8080/",
          "height": 298
        },
        "outputId": "fdd8ee55-099a-4210-8aae-97321b05d4d6"
      },
      "execution_count": 166,
      "outputs": [
        {
          "output_type": "execute_result",
          "data": {
            "text/plain": [
              "Text(0.5, 1.0, 'Error Loss  Vs Iterations')"
            ]
          },
          "metadata": {},
          "execution_count": 166
        },
        {
          "output_type": "display_data",
          "data": {
            "text/plain": [
              "<Figure size 432x288 with 1 Axes>"
            ],
            "image/png": "[encoded data removed]"
          },
          "metadata": {
            "needs_background": "light"
          }
        }
      ]
    },
    {
      "cell_type": "markdown",
      "source": [
        " Normalizing X_TRAIN ONLY AND KEEPING PRICE SAME"
      ],
      "metadata": {
        "id": "4QeTuh-SudUs"
      }
    },
    {
      "cell_type": "code",
      "source": [
        "from matplotlib.collections import EllipseCollection\n",
        "def cost(X, Y, w):\n",
        "    J=np.dot((Y-(np.dot(X,w))).T,(Y-np.dot(X,w)))/(2*len(Y))\n",
        "    return J\n",
        "from sklearn.preprocessing import StandardScaler\n",
        "ss = StandardScaler()\n",
        "X = x_train_new\n",
        "X_s=ss.fit_transform(X)\n",
        "print(X_s.shape)\n",
        "Y = y2\n",
        "print(Y.shape)\n",
        "num_iters = 1000\n",
        "cost_history=[]\n",
        "w_history=[]\n",
        "w=np.array([0,0,0]).T\n",
        "w=w.reshape(-1,1)\n",
        "print(w.shape)\n",
        "print(w.shape)\n",
        "print(X.shape)\n",
        "print(Y.shape)\n",
        "tolerance=0.01\n",
        "eta=0.001\n",
        "cost_up=cost(X_s,Y,w)\n",
        "for i in range(num_iters):# for loop is easier that until and hence using for loop \n",
        "  grad=np.dot(np.dot(X_s.T,X_s),w)-np.dot(X_s.T,Y)# computing gradient for each iteration \n",
        "  w=np.subtract(w,(eta*grad))# readjusting the weight in direction of negative gradient \n",
        "  cost_up=cost(X_s,Y_s,w)[0][0]#New error after new weights\n",
        "  cost_history.append(cost_up)# create history of error \n",
        "  w_history.append(w)# create history of theta \n",
        "  if np.linalg.norm(grad)< tolerance:# we need to break if absolute gradient is tending towards zero\n",
        "    r=i\n",
        "    break\n",
        "  else:\n",
        "    continue\n",
        "\n"
      ],
      "metadata": {
        "colab": {
          "base_uri": "https://localhost:8080/"
        },
        "id": "gQ4afO0WtXiR",
        "outputId": "7ef216ed-9bf9-4fb3-deba-c29450bdc82e"
      },
      "execution_count": 167,
      "outputs": [
        {
          "output_type": "stream",
          "name": "stdout",
          "text": [
            "(47, 3)\n",
            "(47, 1)\n",
            "(3, 1)\n",
            "(3, 1)\n",
            "(47, 3)\n",
            "(47, 1)\n"
          ]
        }
      ]
    },
    {
      "cell_type": "code",
      "source": [
        "w"
      ],
      "metadata": {
        "colab": {
          "base_uri": "https://localhost:8080/"
        },
        "id": "jEtSPVq-twb-",
        "outputId": "09fd00f7-1e71-45b8-e75a-30dc0aaf1a2e"
      },
      "execution_count": 168,
      "outputs": [
        {
          "output_type": "execute_result",
          "data": {
            "text/plain": [
              "array([[     0.        ],\n",
              "       [109421.97033747],\n",
              "       [ -6588.78664222]])"
            ]
          },
          "metadata": {},
          "execution_count": 168
        }
      ]
    },
    {
      "cell_type": "markdown",
      "source": [
        "# How weights alter the path of Error Cost?"
      ],
      "metadata": {
        "id": "GkszvmecneBV"
      }
    },
    {
      "cell_type": "code",
      "source": [
        "from pandas.core.window.ewm import window_aggregations\n",
        "def Extract(list):\n",
        "    p=[item[1] for item in list]\n",
        "    q=[item[2] for item in list]\n",
        "    return p,q\n",
        "m,n=Extract(w_history)\n",
        "m = [arr.tolist() for arr in m]\n",
        "n=[arr.tolist() for arr in n]\n",
        "flat_list = [item for sublist in m for item in sublist]\n",
        "flat_list2= [item for sublist in n for item in sublist]"
      ],
      "metadata": {
        "id": "to8A7555vyO-"
      },
      "execution_count": 26,
      "outputs": []
    },
    {
      "cell_type": "code",
      "source": [
        "w_1=flat_list\n",
        "w_2=flat_list2\n",
        "cost=cost_history\n",
        "ax = plt.axes(projection='3d')\n",
        "\n",
        "# Data for a three-dimensional line\n",
        "ax.scatter3D(w_1, w_2, cost, 'gray')\n",
        "ax.set_xlabel('w_1')\n",
        "ax.set_ylabel('w_2')\n",
        "ax.set_zlabel('cost');"
      ],
      "metadata": {
        "colab": {
          "base_uri": "https://localhost:8080/",
          "height": 255
        },
        "id": "K4WIHHkS3OPg",
        "outputId": "e72842ba-53dd-461b-ed90-b9a8e4ab1876"
      },
      "execution_count": 27,
      "outputs": [
        {
          "output_type": "display_data",
          "data": {
            "text/plain": [
              "<Figure size 432x288 with 1 Axes>"
            ],
            "image/png": "[encoded data removed]"
          },
          "metadata": {
            "needs_background": "light"
          }
        }
      ]
    },
    {
      "cell_type": "code",
      "source": [
        "## PART 2\n"
      ],
      "metadata": {
        "id": "4rhq5iwu-njv"
      },
      "execution_count": 28,
      "outputs": []
    },
    {
      "cell_type": "markdown",
      "source": [
        "## PART 2- USING ONE REGRESSOR-SIZE /AREA"
      ],
      "metadata": {
        "id": "ZBrZO2hz-qsd"
      }
    },
    {
      "cell_type": "code",
      "source": [
        "#ONLY LIVING AREA\n",
        "\n",
        "from matplotlib.collections import EllipseCollection\n",
        "w=np.array([0,0]).T\n",
        "w=w.reshape(-1,1)\n",
        "X=np.array([])\n",
        "Y=np.array([])\n",
        "def cost(X, Y, w):\n",
        "    J=np.dot((Y-(np.dot(X,w))).T,(Y-np.dot(X,w)))/(2*len(Y))\n",
        "    return J\n",
        "def gradient_Descent(X,Y,iter):\n",
        " r=0\n",
        " X = X\n",
        " Y = Y\n",
        " cost_history=[]\n",
        " w_history=[]\n",
        " w=np.array([0,0]).T\n",
        " w=w.reshape(-1,1)\n",
        " tolerance=0.001# Tolerance \n",
        " eta=0.001# Learning Rate \n",
        " cost_up=cost(X,Y,w)\n",
        " for i in range(iter):# for loop is easier that until and hence using for loop \n",
        "    p=np.dot(np.dot(X.T,X),w).reshape(-1,1)\n",
        "    q=np.dot(X.T,Y)# computing gradient for each iteration \n",
        "    grad=np.subtract(p,q)\n",
        "    w=np.subtract(w,(eta*grad))# readjusting the weight in direction of negative gradient \n",
        "    if (np.isnan(w).any()):\n",
        "      break\n",
        "    if (np.isinf(w).any()):\n",
        "      break\n",
        "    else:\n",
        "     cost_up=cost(X,Y,w)[0][0]#New error after new weights\n",
        "     cost_history.append(cost_up)# create history of error \n",
        "     w_history.append(w)# create history of theta \n",
        "     if np.linalg.norm(grad)< tolerance:# we need to break if absolute gradient is tending towards zero\n",
        "      r=i\n",
        "      break\n",
        "     else:\n",
        "      continue\n",
        " return cost_history,w,r #return the last weight \n"
      ],
      "metadata": {
        "id": "5i1xRvsd-uIO"
      },
      "execution_count": 69,
      "outputs": []
    },
    {
      "cell_type": "code",
      "source": [
        "print(type(x_train))\n",
        "x_train2=x_train.iloc[:,0]#dataframe\n",
        "x_train2.values\n",
        "print(x_train2.shape)\n",
        "y_train2=y_train.values.reshape(-1,1)\n",
        "y_train2.shape\n",
        "#a,b,c=gradient_Descent(x_train2,y_train2,iter=10000)"
      ],
      "metadata": {
        "colab": {
          "base_uri": "https://localhost:8080/"
        },
        "id": "aCqE7kbp-uPr",
        "outputId": "8d2bff24-074f-4cbb-f83a-795fc011cc4f"
      },
      "execution_count": 30,
      "outputs": [
        {
          "output_type": "stream",
          "name": "stdout",
          "text": [
            "<class 'pandas.core.frame.DataFrame'>\n",
            "(47,)\n"
          ]
        },
        {
          "output_type": "execute_result",
          "data": {
            "text/plain": [
              "(47, 1)"
            ]
          },
          "metadata": {},
          "execution_count": 30
        }
      ]
    },
    {
      "cell_type": "code",
      "source": [
        "p=x_train2.values\n",
        "x_train3=p.reshape(-1,1)# reshaping to matrix of 47 rows and 1 column\n",
        "constant=np.repeat(1,repeats=x_train.shape[0])\n",
        "x_train4=np.c_[constant,x_train2]\n",
        "x_train4.shape# adding constant \n",
        "x_train4\n",
        "x_mean=np.mean(x_train4[:],axis=0)\n",
        "var=np.var(x_train4,axis=0)\n",
        "x_mean\n",
        "var"
      ],
      "metadata": {
        "colab": {
          "base_uri": "https://localhost:8080/"
        },
        "id": "7VlS6W6UEB3l",
        "outputId": "9b7c744b-3039-4aa7-e303-57120c91ab77"
      },
      "execution_count": 72,
      "outputs": [
        {
          "output_type": "execute_result",
          "data": {
            "text/plain": [
              "array([     0.        , 618114.55771842])"
            ]
          },
          "metadata": {},
          "execution_count": 72
        }
      ]
    },
    {
      "cell_type": "code",
      "source": [
        "\n",
        "def Normalization(df):\n",
        " df[:,1] = df[:,1].apply(lambda x: (x-x.mean())/ x.std(), axis=0)\n",
        " return df"
      ],
      "metadata": {
        "id": "jnD3ecqqsQ5Q"
      },
      "execution_count": 70,
      "outputs": []
    },
    {
      "cell_type": "code",
      "source": [
        "mean_2=x_train4[:,1].mean()\n",
        "sd_2=x_train4[:,1].std()\n",
        "sd_2\n",
        "mean_2"
      ],
      "metadata": {
        "colab": {
          "base_uri": "https://localhost:8080/"
        },
        "id": "W8q281Emwody",
        "outputId": "a3c84a87-6bef-4516-a2c7-c22837d46216"
      },
      "execution_count": 71,
      "outputs": [
        {
          "output_type": "execute_result",
          "data": {
            "text/plain": [
              "2000.6808510638298"
            ]
          },
          "metadata": {},
          "execution_count": 71
        }
      ]
    },
    {
      "cell_type": "code",
      "source": [
        "check=cost(x_train4,y_train2,w)[0][0]"
      ],
      "metadata": {
        "id": "W1tlVVEzBLGX"
      },
      "execution_count": 34,
      "outputs": []
    },
    {
      "cell_type": "code",
      "source": [
        "a,b,c=gradient_Descent(X=x_train4,Y=y_train2,iter=5)\n",
        "print(b)\n",
        "y_train2[0]*0.00005"
      ],
      "metadata": {
        "colab": {
          "base_uri": "https://localhost:8080/"
        },
        "id": "ApCIU512-uSf",
        "outputId": "016f332d-9849-4105-cb41-e565c32c6afd"
      },
      "execution_count": 35,
      "outputs": [
        {
          "output_type": "stream",
          "name": "stdout",
          "text": [
            "[[3.38156429e+10]\n",
            " [7.81017209e+13]]\n"
          ]
        },
        {
          "output_type": "execute_result",
          "data": {
            "text/plain": [
              "array([20.])"
            ]
          },
          "metadata": {},
          "execution_count": 35
        }
      ]
    },
    {
      "cell_type": "code",
      "source": [
        "print(x_train4.shape)\n",
        "\n",
        "grad=np.dot(np.dot(x_train4.T,x_train4),w)-np.dot(x_train4.T,y_train2)\n",
        "x_train4\n",
        "w=np.array([1,.01]).T\n",
        "w2=w.reshape(-1,1)\n",
        "print(w2.shape)\n",
        "a=(np.dot(np.dot(x_train4.T,x_train4),w)).reshape(-1,1)\n",
        "print(a)\n",
        "print(y_train2.shape)\n",
        "b=(np.dot(x_train4.T,y_train2))\n",
        "b\n"
      ],
      "metadata": {
        "colab": {
          "base_uri": "https://localhost:8080/"
        },
        "id": "5BFu_ins-uV5",
        "outputId": "9ad711e4-2524-4af5-9be2-6dba6fa8d2b2"
      },
      "execution_count": 73,
      "outputs": [
        {
          "output_type": "stream",
          "name": "stdout",
          "text": [
            "(47, 2)\n",
            "(2, 1)\n",
            "[[9.87320000e+02]\n",
            " [2.26582606e+06]]\n",
            "(47, 1)\n"
          ]
        },
        {
          "output_type": "execute_result",
          "data": {
            "text/plain": [
              "array([[1.6004000e+07],\n",
              "       [3.5925872e+10]])"
            ]
          },
          "metadata": {},
          "execution_count": 73
        }
      ]
    },
    {
      "cell_type": "code",
      "source": [
        "def normalization(x):\n",
        "  x_mean=np.mean(x)\n",
        "  xbar=np.repeat(x_mean,repeats=len(x))\n",
        "  diff=np.subtract(x,xbar)\n",
        "  xvar=np.std(x)\n",
        "  normal_x=diff/xvar\n",
        "  return normal_x,xbar,xvar"
      ],
      "metadata": {
        "id": "pourzAol-uZP"
      },
      "execution_count": 87,
      "outputs": []
    },
    {
      "cell_type": "code",
      "source": [
        "x2,xbar,v=normalization(x_train4[:,1])\n",
        "constant=np.repeat(1,repeats=len(x_train4))\n",
        "normalized_array=np.c_[constant,x2]\n",
        "x_train_new=normalized_array\n",
        "x_train_new.shape\n",
        "y_train2.shape"
      ],
      "metadata": {
        "colab": {
          "base_uri": "https://localhost:8080/"
        },
        "id": "fO7F7wN3Gjs8",
        "outputId": "c171d5df-3059-4e02-de3d-0249ce7472ae"
      },
      "execution_count": 88,
      "outputs": [
        {
          "output_type": "execute_result",
          "data": {
            "text/plain": [
              "(47, 1)"
            ]
          },
          "metadata": {},
          "execution_count": 88
        }
      ]
    },
    {
      "cell_type": "code",
      "source": [
        "c_history,w,d=gradient_Descent(x_train_new,y_train2,iter=5000)"
      ],
      "metadata": {
        "id": "g8uDShyuJAJV"
      },
      "execution_count": 76,
      "outputs": []
    },
    {
      "cell_type": "code",
      "source": [
        "plt.plot(c_history)\n",
        "print(d)# we reach iteration at 490 at given learning rate!!"
      ],
      "metadata": {
        "colab": {
          "base_uri": "https://localhost:8080/",
          "height": 293
        },
        "id": "tsQReuzeJ3IX",
        "outputId": "0d027f37-f857-411a-a9ff-220c021d2c4d"
      },
      "execution_count": 78,
      "outputs": [
        {
          "output_type": "stream",
          "name": "stdout",
          "text": [
            "490\n"
          ]
        },
        {
          "output_type": "display_data",
          "data": {
            "text/plain": [
              "<Figure size 432x288 with 1 Axes>"
            ],
            "image/png": "[encoded data removed]"
          },
          "metadata": {
            "needs_background": "light"
          }
        }
      ]
    },
    {
      "cell_type": "code",
      "source": [
        "w# Final Weight based on Gradient Descent Proces"
      ],
      "metadata": {
        "colab": {
          "base_uri": "https://localhost:8080/"
        },
        "id": "E5cNKnLmNWwa",
        "outputId": "1482118b-e837-4acc-c86a-c871b8dacefa"
      },
      "execution_count": 104,
      "outputs": [
        {
          "output_type": "execute_result",
          "data": {
            "text/plain": [
              "array([[340510.63827939],\n",
              "       [105732.46604223]])"
            ]
          },
          "metadata": {},
          "execution_count": 104
        }
      ]
    },
    {
      "cell_type": "code",
      "source": [
        "#Test Data\n",
        "x_test=1650\n",
        "x_test2=(x_test-xbar[0])/v\n",
        "x_test2\n",
        "x_new_test=np.array([1,x_test2])\n",
        "test=x_new_test.reshape(1,-1)"
      ],
      "metadata": {
        "id": "mLnqf0CjNgY6"
      },
      "execution_count": 122,
      "outputs": []
    },
    {
      "cell_type": "code",
      "source": [
        "test.shape\n",
        "y_pred=np.dot(test,w)\n",
        "print(f\"the price is {y_pred[0][0]}\")"
      ],
      "metadata": {
        "colab": {
          "base_uri": "https://localhost:8080/"
        },
        "id": "YhuRJu0oT2nf",
        "outputId": "b1569d8f-df3e-4350-c3ce-9c25233fe7d5"
      },
      "execution_count": 127,
      "outputs": [
        {
          "output_type": "stream",
          "name": "stdout",
          "text": [
            "the price is 293349.3209639554\n"
          ]
        }
      ]
    },
    {
      "cell_type": "code",
      "source": [
        "# plot the train data and test data \n",
        "plt.plot(x_train4[:,1],y2,'o')\n",
        "plt.title(\"Price Vs Bedroom Area\")\n",
        "plt.xlabel(\"Bedroom Area\")\n",
        "plt.ylabel(\"Price\")\n",
        "plt.plot(x_test,y_pred[0][0],marker=\"o\", markersize=10, markeredgecolor=\"red\", markerfacecolor=\"green\")"
      ],
      "metadata": {
        "colab": {
          "base_uri": "https://localhost:8080/",
          "height": 312
        },
        "id": "mzxPb3JHpnh_",
        "outputId": "6c0cc10d-65d7-4896-f33b-00da1b4bbcb9"
      },
      "execution_count": 137,
      "outputs": [
        {
          "output_type": "execute_result",
          "data": {
            "text/plain": [
              "[<matplotlib.lines.Line2D at 0x7f3e2360e2e0>]"
            ]
          },
          "metadata": {},
          "execution_count": 137
        },
        {
          "output_type": "display_data",
          "data": {
            "text/plain": [
              "<Figure size 432x288 with 1 Axes>"
            ],
            "image/png": "[encoded data removed]"
          },
          "metadata": {
            "needs_background": "light"
          }
        }
      ]
    }
  ]
}